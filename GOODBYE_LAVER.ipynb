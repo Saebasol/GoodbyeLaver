{
  "cells": [
    {
      "cell_type": "code",
      "execution_count": null,
      "metadata": {
        "id": "95a87y7f8t0z"
      },
      "outputs": [],
      "source": [
        "# Clone GoodbyeLaver\n",
        "!git clone https://github.com/kdrkdrkdr/GoodbyeLaver\n",
        "\n",
        "# Install hent-AI\n",
        "%cd /content/GoodbyeLaver/hent-AI/\n",
        "!wget https://github.com/kdrkdrkdr/GoodbyeLaver/releases/download/1.0/4x_FatalPixels_340000_G.pth\n",
        "!wget https://github.com/kdrkdrkdr/GoodbyeLaver/releases/download/1.0/weights.h5\n",
        "!pip install --upgrade pip\n",
        "!pip install -r requirements.txt\n",
        "!python setup.py install\n",
        "!add-apt-repository ppa:jon-severinsson/ffmpeg\n",
        "!apt-get update\n",
        "!apt-get install ffmpeg\n",
        "\n",
        "\n",
        "# Install lama_cleaner\n",
        "%cd /content/GoodbyeLaver/lama_cleaner/\n",
        "!pip install -r requirements.txt\n",
        "\n",
        "# Make directory\n",
        "!mkdir /content/image_original/\n",
        "!mkdir /content/image_detected/\n",
        "!mkdir /content/image_uncensored/\n",
        "\n",
        "\n",
        "# Run lama server\n",
        "%cd /content/GoodbyeLaver/\n",
        "!nohup python lama.py --port 5003 &\n"
      ]
    },
    {
      "cell_type": "code",
      "execution_count": null,
      "metadata": {
        "id": "FdonSouNSo2l"
      },
      "outputs": [],
      "source": [
        "# Run Decensoring!\n",
        "# Upload the censored image to the \"/content/image_original/\" folder, and run this cell.\n",
        "!rm -rf /content/image_detected/*\n",
        "!rm -rf /content/image_uncensored/*\n",
        "\n",
        "# Detecting bar censored\n",
        "%tensorflow_version 1.x\n",
        "%cd /content/GoodbyeLaver/hent-AI/\n",
        "!python run.py\n",
        "\n",
        "# Inpainting image\n",
        "%cd /content/GoodbyeLaver/\n",
        "!python inpainting.py\n",
        "\n",
        "# Download Uncensored Image\n",
        "!zip -r /content/uncensored_image.zip /content/image_uncensored/\n",
        "from google.colab import files\n",
        "files.download(\"/content/uncensored_image.zip\")\n",
        "!rm -rf /content/uncensored_image.zip"
      ]
    },
    {
      "cell_type": "code",
      "execution_count": 6,
      "metadata": {
        "id": "cRm-J9-nofNX"
      },
      "outputs": [],
      "source": [
        "# Run this cell if you want to delete all uploaded images.\n",
        "!rm -rf /content/image_original/*"
      ]
    }
  ],
  "metadata": {
    "accelerator": "GPU",
    "colab": {
      "collapsed_sections": [],
      "name": "hentai.ipynb",
      "provenance": []
    },
    "kernelspec": {
      "display_name": "Python 3",
      "name": "python3"
    },
    "language_info": {
      "name": "python"
    }
  },
  "nbformat": 4,
  "nbformat_minor": 0
}
