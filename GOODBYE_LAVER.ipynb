{
  "cells": [
    {
      "cell_type": "code",
      "execution_count": null,
      "metadata": {
        "id": "95a87y7f8t0z"
      },
      "outputs": [],
      "source": [
        "# !python -> colab default, !python3.5 -> 3.5.10\n",
        "# It takes up to 15 minutes.\n",
        "\n",
        "# Install Python 3.5\n",
        "!add-apt-repository -y ppa:deadsnakes/ppa\n",
        "!apt-get update\n",
        "!apt-get install -y build-essential libssl-dev libffi-dev \n",
        "!apt-get install -y python3.5 python3.5-dev\n",
        "!wget https://bootstrap.pypa.io/pip/3.5/get-pip.py && python3.5 get-pip.py\n",
        "!rm -rf /content/get-pip.py\n",
        "\n",
        "\n",
        "# Install Cuda 9.0\n",
        "!wget https://developer.nvidia.com/compute/cuda/9.0/Prod/local_installers/cuda-repo-ubuntu1604-9-0-local_9.0.176-1_amd64-deb\n",
        "!dpkg -i cuda-repo-ubuntu1604-9-0-local_9.0.176-1_amd64-deb\n",
        "!apt-key add /var/cuda-repo-9-0-local/7fa2af80.pub\n",
        "!apt-get update\n",
        "!apt-get install cuda=9.0.176-1\n",
        "!rm -rf /content/cuda-repo-ubuntu1604-9-0-local_9.0.176-1_amd64-deb\n",
        "\n",
        "\n",
        "# Install hent-AI\n",
        "!git clone https://github.com/kdrkdrkdr/GoodbyeLaver\n",
        "%cd /content/GoodbyeLaver/hent-AI/\n",
        "!wget https://github.com/kdrkdrkdr/GoodbyeLaver/releases/download/1.0/4x_FatalPixels_340000_G.pth\n",
        "!wget https://github.com/kdrkdrkdr/GoodbyeLaver/releases/download/1.0/weights.h5\n",
        "!python3.5 -m pip install -r requirements-gpu.txt\n",
        "\n",
        "\n",
        "# Install lama_cleaner\n",
        "%cd /content/GoodbyeLaver/lama_cleaner/\n",
        "!python -m pip install -r requirements.txt\n",
        "\n",
        "\n",
        "# Make directory\n",
        "!mkdir /content/image_original/\n",
        "!mkdir /content/image_detected/\n",
        "!mkdir /content/image_uncensored/\n",
        "\n",
        "\n",
        "# Run lama server\n",
        "%cd /content/GoodbyeLaver/\n",
        "!nohup python lama.py --port 5003 > log_lama.out &"
      ]
    },
    {
      "cell_type": "code",
      "execution_count": null,
      "metadata": {
        "id": "FdonSouNSo2l"
      },
      "outputs": [],
      "source": [
        "# Run Decensoring!\n",
        "# Upload the censored image to the \"/content/image_original/\" folder, and run this cell.\n",
        "!rm -rf /content/image_detected/*\n",
        "!rm -rf /content/image_uncensored/*\n",
        "\n",
        "# Detecting bar censored\n",
        "%cd /content/GoodbyeLaver/hent-AI/\n",
        "!python3.5 run.py\n",
        "\n",
        "# Inpainting image\n",
        "%cd /content/GoodbyeLaver/\n",
        "!python3 inpainting.py"
      ]
    },
    {
      "cell_type": "code",
      "execution_count": 6,
      "metadata": {
        "id": "cRm-J9-nofNX"
      },
      "outputs": [],
      "source": [
        "# Run this cell if you want to delete all uploaded images.\n",
        "!rm -rf /content/image_original/*"
      ]
    }
  ],
  "metadata": {
    "accelerator": "GPU",
    "colab": {
      "collapsed_sections": [],
      "name": "hentai.ipynb",
      "provenance": []
    },
    "kernelspec": {
      "display_name": "Python 3",
      "name": "python3"
    },
    "language_info": {
      "name": "python"
    }
  },
  "nbformat": 4,
  "nbformat_minor": 0
}
